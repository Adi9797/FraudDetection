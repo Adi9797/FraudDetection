{
 "cells": [
  {
   "cell_type": "code",
   "execution_count": 4,
   "metadata": {},
   "outputs": [],
   "source": [
    "import pandas as pd\n",
    "import random"
   ]
  },
  {
   "cell_type": "code",
   "execution_count": null,
   "metadata": {},
   "outputs": [],
   "source": [
    "# 100k dataset for train + valid\n",
    "# 10k for test\n",
    "\n",
    "#TODO: Q: why 101?\n",
    "#TODO: search for ways to generate synthetic data"
   ]
  },
  {
   "cell_type": "code",
   "execution_count": 1,
   "metadata": {},
   "outputs": [],
   "source": [
    "columns = ['id','amount_currency','amount_value','channel','deviceDetails_browser',\n",
    "           'deviceDetails_device','deviceDetails_deviceIp','merchantRefTransactionId','paymentMethod_apmType',\n",
    "           'paymentMethod_cardNumber','paymentMethod_cardSubType','paymentMethod_cardType','paymentMethod_cvv',\n",
    "           'paymentMethod_encodedPaymentToken','paymentMethod_expiryMonth','paymentMethod_expiryYear',\n",
    "           'shopperDetails_address_city','shopperDetails_address_country',\n",
    "           'shopperDetails_address_state','shopperDetails_email','shopperDetails_firstName','shopperDetails_lastName',\n",
    "           'shopperDetails_phoneNumber','shopperDetails_shopperKey']"
   ]
  },
  {
   "cell_type": "code",
   "execution_count": 2,
   "metadata": {},
   "outputs": [],
   "source": [
    "import random\n",
    "def initial_values(rows):\n",
    "    amounts = []\n",
    "    for i in range(rows):\n",
    "        amounts.append({'id':i, 'amount_value':round(random.uniform(0.00, 100000), 2)})\n",
    "    return amounts"
   ]
  },
  {
   "cell_type": "code",
   "execution_count": 5,
   "metadata": {},
   "outputs": [],
   "source": [
    "numbers_of_rows_in_dataset = 100000\n",
    "data = initial_values(numbers_of_rows_in_dataset)\n",
    "ml_set = pd.DataFrame(data)"
   ]
  },
  {
   "cell_type": "code",
   "execution_count": 6,
   "metadata": {},
   "outputs": [
    {
     "data": {
      "text/plain": [
       "(100000, 2)"
      ]
     },
     "execution_count": 6,
     "metadata": {},
     "output_type": "execute_result"
    }
   ],
   "source": [
    "ml_set.shape"
   ]
  },
  {
   "cell_type": "code",
   "execution_count": 9,
   "metadata": {},
   "outputs": [
    {
     "data": {
      "text/html": [
       "<div>\n",
       "<style scoped>\n",
       "    .dataframe tbody tr th:only-of-type {\n",
       "        vertical-align: middle;\n",
       "    }\n",
       "\n",
       "    .dataframe tbody tr th {\n",
       "        vertical-align: top;\n",
       "    }\n",
       "\n",
       "    .dataframe thead th {\n",
       "        text-align: right;\n",
       "    }\n",
       "</style>\n",
       "<table border=\"1\" class=\"dataframe\">\n",
       "  <thead>\n",
       "    <tr style=\"text-align: right;\">\n",
       "      <th></th>\n",
       "      <th>id</th>\n",
       "      <th>amount_value</th>\n",
       "      <th>amount_currency</th>\n",
       "    </tr>\n",
       "  </thead>\n",
       "  <tbody>\n",
       "    <tr>\n",
       "      <th>0</th>\n",
       "      <td>0</td>\n",
       "      <td>32966.94</td>\n",
       "      <td>USD</td>\n",
       "    </tr>\n",
       "    <tr>\n",
       "      <th>1</th>\n",
       "      <td>1</td>\n",
       "      <td>77416.80</td>\n",
       "      <td>USD</td>\n",
       "    </tr>\n",
       "    <tr>\n",
       "      <th>2</th>\n",
       "      <td>2</td>\n",
       "      <td>10138.06</td>\n",
       "      <td>USD</td>\n",
       "    </tr>\n",
       "    <tr>\n",
       "      <th>3</th>\n",
       "      <td>3</td>\n",
       "      <td>51452.41</td>\n",
       "      <td>USD</td>\n",
       "    </tr>\n",
       "    <tr>\n",
       "      <th>4</th>\n",
       "      <td>4</td>\n",
       "      <td>30746.08</td>\n",
       "      <td>USD</td>\n",
       "    </tr>\n",
       "    <tr>\n",
       "      <th>...</th>\n",
       "      <td>...</td>\n",
       "      <td>...</td>\n",
       "      <td>...</td>\n",
       "    </tr>\n",
       "    <tr>\n",
       "      <th>99995</th>\n",
       "      <td>99995</td>\n",
       "      <td>40218.80</td>\n",
       "      <td>USD</td>\n",
       "    </tr>\n",
       "    <tr>\n",
       "      <th>99996</th>\n",
       "      <td>99996</td>\n",
       "      <td>2409.28</td>\n",
       "      <td>USD</td>\n",
       "    </tr>\n",
       "    <tr>\n",
       "      <th>99997</th>\n",
       "      <td>99997</td>\n",
       "      <td>46027.75</td>\n",
       "      <td>USD</td>\n",
       "    </tr>\n",
       "    <tr>\n",
       "      <th>99998</th>\n",
       "      <td>99998</td>\n",
       "      <td>52523.66</td>\n",
       "      <td>USD</td>\n",
       "    </tr>\n",
       "    <tr>\n",
       "      <th>99999</th>\n",
       "      <td>99999</td>\n",
       "      <td>48182.70</td>\n",
       "      <td>USD</td>\n",
       "    </tr>\n",
       "  </tbody>\n",
       "</table>\n",
       "<p>100000 rows × 3 columns</p>\n",
       "</div>"
      ],
      "text/plain": [
       "          id  amount_value amount_currency\n",
       "0          0      32966.94             USD\n",
       "1          1      77416.80             USD\n",
       "2          2      10138.06             USD\n",
       "3          3      51452.41             USD\n",
       "4          4      30746.08             USD\n",
       "...      ...           ...             ...\n",
       "99995  99995      40218.80             USD\n",
       "99996  99996       2409.28             USD\n",
       "99997  99997      46027.75             USD\n",
       "99998  99998      52523.66             USD\n",
       "99999  99999      48182.70             USD\n",
       "\n",
       "[100000 rows x 3 columns]"
      ]
     },
     "execution_count": 9,
     "metadata": {},
     "output_type": "execute_result"
    }
   ],
   "source": [
    "ml_set"
   ]
  },
  {
   "cell_type": "code",
   "execution_count": 8,
   "metadata": {},
   "outputs": [],
   "source": [
    "ml_set['amount_currency'] = 'USD'"
   ]
  },
  {
   "cell_type": "code",
   "execution_count": 10,
   "metadata": {},
   "outputs": [],
   "source": [
    "def random_channel(row):\n",
    "    channel = ''\n",
    "    rnd =  random.randrange(101)\n",
    "    if  0 < rnd <= 10:\n",
    "        channel = 'pos'\n",
    "    elif 10 < rnd <= 50:\n",
    "        channel = 'online'\n",
    "    elif 51 < rnd <= 100:\n",
    "        channel = 'virtual'\n",
    "    else:\n",
    "        channel = 'mobile'\n",
    "    \n",
    "    return channel"
   ]
  },
  {
   "cell_type": "code",
   "execution_count": 11,
   "metadata": {},
   "outputs": [],
   "source": [
    "ml_set['channel'] = ml_set.apply(random_channel, axis = 1)"
   ]
  },
  {
   "cell_type": "code",
   "execution_count": 12,
   "metadata": {},
   "outputs": [
    {
     "data": {
      "text/plain": [
       "array(['online', 'virtual', 'pos', 'mobile'], dtype=object)"
      ]
     },
     "execution_count": 12,
     "metadata": {},
     "output_type": "execute_result"
    }
   ],
   "source": [
    "ml_set.channel.unique()"
   ]
  },
  {
   "cell_type": "code",
   "execution_count": 13,
   "metadata": {},
   "outputs": [],
   "source": [
    "def deviceDetails_browser(row):\n",
    "    browser = ''\n",
    "    rnd =  random.randrange(101)\n",
    "    if  0 < rnd <= 10:\n",
    "        browser = 'mozilla'\n",
    "    elif 10 < rnd <= 50:\n",
    "        browser = 'chrome'\n",
    "    elif 51 < rnd <= 100:\n",
    "        browser = 'edge'\n",
    "    else:\n",
    "        browser = 'chromio'\n",
    "    \n",
    "    return browser"
   ]
  },
  {
   "cell_type": "code",
   "execution_count": 14,
   "metadata": {},
   "outputs": [],
   "source": [
    "ml_set['deviceDetails_browser'] = ml_set.apply(deviceDetails_browser, axis = 1)"
   ]
  },
  {
   "cell_type": "code",
   "execution_count": 15,
   "metadata": {},
   "outputs": [],
   "source": [
    "def deviceDetails_device(row):\n",
    "    device = ''\n",
    "    rnd =  random.randrange(101)\n",
    "    if  0 < rnd <= 10:\n",
    "        device = 'mobile'\n",
    "    elif 10 < rnd <= 50:\n",
    "        device = 'pc'\n",
    "    else:\n",
    "        device = 'pos'\n",
    "    \n",
    "    return device"
   ]
  },
  {
   "cell_type": "code",
   "execution_count": 16,
   "metadata": {},
   "outputs": [],
   "source": [
    "ml_set['deviceDetails_device'] = ml_set.apply(deviceDetails_device, axis = 1)"
   ]
  },
  {
   "cell_type": "code",
   "execution_count": 17,
   "metadata": {},
   "outputs": [],
   "source": [
    "import socket\n",
    "import struct\n",
    "def deviceDetails_deviceIp(row):\n",
    "    ip = socket.inet_ntoa(struct.pack('>I', random.randint(1, 0xffffffff)))\n",
    "    return ip"
   ]
  },
  {
   "cell_type": "code",
   "execution_count": 18,
   "metadata": {},
   "outputs": [],
   "source": [
    "ml_set['deviceDetails_deviceIp'] = ml_set.apply(deviceDetails_deviceIp, axis = 1)"
   ]
  },
  {
   "cell_type": "code",
   "execution_count": 19,
   "metadata": {},
   "outputs": [],
   "source": [
    "import string\n",
    "def merchantRefTransactionId(row):\n",
    "    letters = string.digits\n",
    "    return ''.join(random.choice(letters) for i in range(10))"
   ]
  },
  {
   "cell_type": "code",
   "execution_count": 20,
   "metadata": {},
   "outputs": [],
   "source": [
    "ml_set['merchantRefTransactionId'] = ml_set.apply(merchantRefTransactionId, axis = 1)"
   ]
  },
  {
   "cell_type": "code",
   "execution_count": 21,
   "metadata": {},
   "outputs": [],
   "source": [
    "def paymentMethod_apmType(row):\n",
    "    amp = ''\n",
    "    rnd =  random.randrange(101)\n",
    "    if  0 < rnd <= 10:\n",
    "        amp = 'chip'\n",
    "    elif 10 < rnd <= 50:\n",
    "        amp = 'magstripe '\n",
    "    else:\n",
    "        amp = 'nfcc'\n",
    "    \n",
    "    return amp"
   ]
  },
  {
   "cell_type": "code",
   "execution_count": 22,
   "metadata": {},
   "outputs": [],
   "source": [
    "ml_set['paymentMethod_apmType'] = ml_set.apply(paymentMethod_apmType, axis = 1)"
   ]
  },
  {
   "cell_type": "code",
   "execution_count": 23,
   "metadata": {},
   "outputs": [],
   "source": [
    "import string\n",
    "def paymentMethod_cardNumber(row):\n",
    "    card_number = ''\n",
    "    numbers = string.digits\n",
    "    for part in range(4):\n",
    "        card_number += ''.join((random.choice(numbers) for i in range(4))) + '-'\n",
    "    return card_number[:-1]"
   ]
  },
  {
   "cell_type": "code",
   "execution_count": 24,
   "metadata": {},
   "outputs": [],
   "source": [
    "ml_set['paymentMethod_cardNumber'] = ml_set.apply(paymentMethod_cardNumber, axis = 1)"
   ]
  },
  {
   "cell_type": "code",
   "execution_count": 25,
   "metadata": {},
   "outputs": [],
   "source": [
    "def paymentMethod_cardType(row):\n",
    "    card_type = ''\n",
    "    rnd =  random.randrange(201)\n",
    "    if  0 < rnd <= 10:\n",
    "        card_type = 'MasterCard'\n",
    "    elif 10 < rnd <= 50:\n",
    "        card_type = 'Visa '\n",
    "    elif 51 < rnd <= 100:\n",
    "        card_type = 'Discover '\n",
    "    elif 51 < rnd <= 100:\n",
    "        card_type = 'JCB'\n",
    "    else:\n",
    "        card_type = 'American Express'\n",
    "    \n",
    "    return card_type"
   ]
  },
  {
   "cell_type": "code",
   "execution_count": 26,
   "metadata": {},
   "outputs": [],
   "source": [
    "ml_set['paymentMethod_cardType'] = ml_set.apply(paymentMethod_cardType, axis = 1)"
   ]
  },
  {
   "cell_type": "code",
   "execution_count": 27,
   "metadata": {},
   "outputs": [],
   "source": [
    "def paymentMethod_cardSubType(row):\n",
    "    card_subtype = ''\n",
    "    rnd =  random.randrange(201)\n",
    "    if  0 < rnd <= 10:\n",
    "        card_subtype = 'Secured'\n",
    "    elif 10 < rnd <= 50:\n",
    "        card_subtype = 'Prepaid '\n",
    "    elif 51 < rnd <= 100:\n",
    "        card_subtype = 'Business '\n",
    "    elif 51 < rnd <= 100:\n",
    "        card_subtype = 'Student'\n",
    "    else:\n",
    "        card_subtype = 'Generic'\n",
    "    \n",
    "    return card_subtype"
   ]
  },
  {
   "cell_type": "code",
   "execution_count": 28,
   "metadata": {},
   "outputs": [],
   "source": [
    "ml_set['paymentMethod_cardSubType'] = ml_set.apply(paymentMethod_cardSubType, axis = 1)"
   ]
  },
  {
   "cell_type": "code",
   "execution_count": 29,
   "metadata": {},
   "outputs": [],
   "source": [
    "import string\n",
    "def paymentMethod_cvv(row):\n",
    "    numbers = string.digits\n",
    "    return ''.join((random.choice(numbers) for i in range(3)))"
   ]
  },
  {
   "cell_type": "code",
   "execution_count": 30,
   "metadata": {},
   "outputs": [],
   "source": [
    "ml_set['paymentMethod_cvv'] = ml_set.apply(paymentMethod_cvv, axis = 1)"
   ]
  },
  {
   "cell_type": "code",
   "execution_count": 31,
   "metadata": {},
   "outputs": [],
   "source": [
    "def paymentMethod_encodedPaymentToken(row):\n",
    "    letters = string.ascii_letters\n",
    "    return ''.join(random.choice(letters) for i in range(8))"
   ]
  },
  {
   "cell_type": "code",
   "execution_count": 32,
   "metadata": {},
   "outputs": [],
   "source": [
    "ml_set['paymentMethod_encodedPaymentToken'] = ml_set.apply(paymentMethod_encodedPaymentToken, axis = 1)"
   ]
  },
  {
   "cell_type": "code",
   "execution_count": 33,
   "metadata": {},
   "outputs": [
    {
     "data": {
      "text/html": [
       "<div>\n",
       "<style scoped>\n",
       "    .dataframe tbody tr th:only-of-type {\n",
       "        vertical-align: middle;\n",
       "    }\n",
       "\n",
       "    .dataframe tbody tr th {\n",
       "        vertical-align: top;\n",
       "    }\n",
       "\n",
       "    .dataframe thead th {\n",
       "        text-align: right;\n",
       "    }\n",
       "</style>\n",
       "<table border=\"1\" class=\"dataframe\">\n",
       "  <thead>\n",
       "    <tr style=\"text-align: right;\">\n",
       "      <th></th>\n",
       "      <th>id</th>\n",
       "      <th>amount_value</th>\n",
       "      <th>amount_currency</th>\n",
       "      <th>channel</th>\n",
       "      <th>deviceDetails_browser</th>\n",
       "      <th>deviceDetails_device</th>\n",
       "      <th>deviceDetails_deviceIp</th>\n",
       "      <th>merchantRefTransactionId</th>\n",
       "      <th>paymentMethod_apmType</th>\n",
       "      <th>paymentMethod_cardNumber</th>\n",
       "      <th>paymentMethod_cardType</th>\n",
       "      <th>paymentMethod_cardSubType</th>\n",
       "      <th>paymentMethod_cvv</th>\n",
       "      <th>paymentMethod_encodedPaymentToken</th>\n",
       "    </tr>\n",
       "  </thead>\n",
       "  <tbody>\n",
       "    <tr>\n",
       "      <th>0</th>\n",
       "      <td>0</td>\n",
       "      <td>59709.74</td>\n",
       "      <td>USD</td>\n",
       "      <td>online</td>\n",
       "      <td>edge</td>\n",
       "      <td>pos</td>\n",
       "      <td>185.217.34.85</td>\n",
       "      <td>2886491310</td>\n",
       "      <td>nfcc</td>\n",
       "      <td>4705-9637-4876-9220</td>\n",
       "      <td>Discover</td>\n",
       "      <td>Business</td>\n",
       "      <td>868</td>\n",
       "      <td>VbqGsfEM</td>\n",
       "    </tr>\n",
       "    <tr>\n",
       "      <th>1</th>\n",
       "      <td>1</td>\n",
       "      <td>66158.90</td>\n",
       "      <td>USD</td>\n",
       "      <td>virtual</td>\n",
       "      <td>mozilla</td>\n",
       "      <td>pos</td>\n",
       "      <td>155.150.151.58</td>\n",
       "      <td>2142948276</td>\n",
       "      <td>nfcc</td>\n",
       "      <td>6229-3592-8282-2503</td>\n",
       "      <td>Discover</td>\n",
       "      <td>Generic</td>\n",
       "      <td>089</td>\n",
       "      <td>hBwCWemp</td>\n",
       "    </tr>\n",
       "    <tr>\n",
       "      <th>2</th>\n",
       "      <td>2</td>\n",
       "      <td>56267.47</td>\n",
       "      <td>USD</td>\n",
       "      <td>online</td>\n",
       "      <td>edge</td>\n",
       "      <td>pos</td>\n",
       "      <td>1.108.241.44</td>\n",
       "      <td>8346148926</td>\n",
       "      <td>magstripe</td>\n",
       "      <td>4783-4065-0532-9896</td>\n",
       "      <td>Discover</td>\n",
       "      <td>Generic</td>\n",
       "      <td>506</td>\n",
       "      <td>wHbaPyoK</td>\n",
       "    </tr>\n",
       "    <tr>\n",
       "      <th>3</th>\n",
       "      <td>3</td>\n",
       "      <td>7807.98</td>\n",
       "      <td>USD</td>\n",
       "      <td>pos</td>\n",
       "      <td>chrome</td>\n",
       "      <td>mobile</td>\n",
       "      <td>194.130.118.167</td>\n",
       "      <td>2230501915</td>\n",
       "      <td>nfcc</td>\n",
       "      <td>5658-1263-1465-3445</td>\n",
       "      <td>American Express</td>\n",
       "      <td>Generic</td>\n",
       "      <td>775</td>\n",
       "      <td>qqasJHss</td>\n",
       "    </tr>\n",
       "    <tr>\n",
       "      <th>4</th>\n",
       "      <td>4</td>\n",
       "      <td>46602.08</td>\n",
       "      <td>USD</td>\n",
       "      <td>online</td>\n",
       "      <td>edge</td>\n",
       "      <td>pos</td>\n",
       "      <td>119.122.247.30</td>\n",
       "      <td>2527799581</td>\n",
       "      <td>nfcc</td>\n",
       "      <td>8827-9713-4148-1666</td>\n",
       "      <td>American Express</td>\n",
       "      <td>Business</td>\n",
       "      <td>498</td>\n",
       "      <td>GlevyWaY</td>\n",
       "    </tr>\n",
       "  </tbody>\n",
       "</table>\n",
       "</div>"
      ],
      "text/plain": [
       "   id  amount_value amount_currency  channel deviceDetails_browser  \\\n",
       "0   0      59709.74             USD   online                  edge   \n",
       "1   1      66158.90             USD  virtual               mozilla   \n",
       "2   2      56267.47             USD   online                  edge   \n",
       "3   3       7807.98             USD      pos                chrome   \n",
       "4   4      46602.08             USD   online                  edge   \n",
       "\n",
       "  deviceDetails_device deviceDetails_deviceIp merchantRefTransactionId  \\\n",
       "0                  pos          185.217.34.85               2886491310   \n",
       "1                  pos         155.150.151.58               2142948276   \n",
       "2                  pos           1.108.241.44               8346148926   \n",
       "3               mobile        194.130.118.167               2230501915   \n",
       "4                  pos         119.122.247.30               2527799581   \n",
       "\n",
       "  paymentMethod_apmType paymentMethod_cardNumber paymentMethod_cardType  \\\n",
       "0                  nfcc      4705-9637-4876-9220              Discover    \n",
       "1                  nfcc      6229-3592-8282-2503              Discover    \n",
       "2            magstripe       4783-4065-0532-9896              Discover    \n",
       "3                  nfcc      5658-1263-1465-3445       American Express   \n",
       "4                  nfcc      8827-9713-4148-1666       American Express   \n",
       "\n",
       "  paymentMethod_cardSubType paymentMethod_cvv  \\\n",
       "0                 Business                868   \n",
       "1                   Generic               089   \n",
       "2                   Generic               506   \n",
       "3                   Generic               775   \n",
       "4                 Business                498   \n",
       "\n",
       "  paymentMethod_encodedPaymentToken  \n",
       "0                          VbqGsfEM  \n",
       "1                          hBwCWemp  \n",
       "2                          wHbaPyoK  \n",
       "3                          qqasJHss  \n",
       "4                          GlevyWaY  "
      ]
     },
     "execution_count": 33,
     "metadata": {},
     "output_type": "execute_result"
    }
   ],
   "source": [
    "ml_set.head(5)"
   ]
  },
  {
   "cell_type": "code",
   "execution_count": 34,
   "metadata": {},
   "outputs": [],
   "source": [
    "from random import randrange\n",
    "\n",
    "def paymentMethod_expiryMonth(row):\n",
    "    return randrange(12)"
   ]
  },
  {
   "cell_type": "code",
   "execution_count": 35,
   "metadata": {},
   "outputs": [],
   "source": [
    "ml_set['paymentMethod_expiryMonth'] = ml_set.apply(paymentMethod_expiryMonth, axis = 1)"
   ]
  },
  {
   "cell_type": "code",
   "execution_count": 36,
   "metadata": {},
   "outputs": [],
   "source": [
    "from random import randrange\n",
    "\n",
    "def paymentMethod_expiryYear(row):\n",
    "    start_year = randrange(2018,2020)\n",
    "    return randrange(start_year, start_year + 10)"
   ]
  },
  {
   "cell_type": "code",
   "execution_count": 37,
   "metadata": {},
   "outputs": [],
   "source": [
    "ml_set['paymentMethod_expiryYear'] = ml_set.apply(paymentMethod_expiryYear, axis = 1)"
   ]
  },
  {
   "cell_type": "code",
   "execution_count": 38,
   "metadata": {},
   "outputs": [
    {
     "data": {
      "text/html": [
       "<div>\n",
       "<style scoped>\n",
       "    .dataframe tbody tr th:only-of-type {\n",
       "        vertical-align: middle;\n",
       "    }\n",
       "\n",
       "    .dataframe tbody tr th {\n",
       "        vertical-align: top;\n",
       "    }\n",
       "\n",
       "    .dataframe thead th {\n",
       "        text-align: right;\n",
       "    }\n",
       "</style>\n",
       "<table border=\"1\" class=\"dataframe\">\n",
       "  <thead>\n",
       "    <tr style=\"text-align: right;\">\n",
       "      <th></th>\n",
       "      <th>id</th>\n",
       "      <th>amount_value</th>\n",
       "      <th>amount_currency</th>\n",
       "      <th>channel</th>\n",
       "      <th>deviceDetails_browser</th>\n",
       "      <th>deviceDetails_device</th>\n",
       "      <th>deviceDetails_deviceIp</th>\n",
       "      <th>merchantRefTransactionId</th>\n",
       "      <th>paymentMethod_apmType</th>\n",
       "      <th>paymentMethod_cardNumber</th>\n",
       "      <th>paymentMethod_cardType</th>\n",
       "      <th>paymentMethod_cardSubType</th>\n",
       "      <th>paymentMethod_cvv</th>\n",
       "      <th>paymentMethod_encodedPaymentToken</th>\n",
       "      <th>paymentMethod_expiryMonth</th>\n",
       "      <th>paymentMethod_expiryYear</th>\n",
       "    </tr>\n",
       "  </thead>\n",
       "  <tbody>\n",
       "    <tr>\n",
       "      <th>0</th>\n",
       "      <td>0</td>\n",
       "      <td>59709.74</td>\n",
       "      <td>USD</td>\n",
       "      <td>online</td>\n",
       "      <td>edge</td>\n",
       "      <td>pos</td>\n",
       "      <td>185.217.34.85</td>\n",
       "      <td>2886491310</td>\n",
       "      <td>nfcc</td>\n",
       "      <td>4705-9637-4876-9220</td>\n",
       "      <td>Discover</td>\n",
       "      <td>Business</td>\n",
       "      <td>868</td>\n",
       "      <td>VbqGsfEM</td>\n",
       "      <td>2</td>\n",
       "      <td>2021</td>\n",
       "    </tr>\n",
       "    <tr>\n",
       "      <th>1</th>\n",
       "      <td>1</td>\n",
       "      <td>66158.90</td>\n",
       "      <td>USD</td>\n",
       "      <td>virtual</td>\n",
       "      <td>mozilla</td>\n",
       "      <td>pos</td>\n",
       "      <td>155.150.151.58</td>\n",
       "      <td>2142948276</td>\n",
       "      <td>nfcc</td>\n",
       "      <td>6229-3592-8282-2503</td>\n",
       "      <td>Discover</td>\n",
       "      <td>Generic</td>\n",
       "      <td>089</td>\n",
       "      <td>hBwCWemp</td>\n",
       "      <td>3</td>\n",
       "      <td>2023</td>\n",
       "    </tr>\n",
       "    <tr>\n",
       "      <th>2</th>\n",
       "      <td>2</td>\n",
       "      <td>56267.47</td>\n",
       "      <td>USD</td>\n",
       "      <td>online</td>\n",
       "      <td>edge</td>\n",
       "      <td>pos</td>\n",
       "      <td>1.108.241.44</td>\n",
       "      <td>8346148926</td>\n",
       "      <td>magstripe</td>\n",
       "      <td>4783-4065-0532-9896</td>\n",
       "      <td>Discover</td>\n",
       "      <td>Generic</td>\n",
       "      <td>506</td>\n",
       "      <td>wHbaPyoK</td>\n",
       "      <td>10</td>\n",
       "      <td>2025</td>\n",
       "    </tr>\n",
       "    <tr>\n",
       "      <th>3</th>\n",
       "      <td>3</td>\n",
       "      <td>7807.98</td>\n",
       "      <td>USD</td>\n",
       "      <td>pos</td>\n",
       "      <td>chrome</td>\n",
       "      <td>mobile</td>\n",
       "      <td>194.130.118.167</td>\n",
       "      <td>2230501915</td>\n",
       "      <td>nfcc</td>\n",
       "      <td>5658-1263-1465-3445</td>\n",
       "      <td>American Express</td>\n",
       "      <td>Generic</td>\n",
       "      <td>775</td>\n",
       "      <td>qqasJHss</td>\n",
       "      <td>10</td>\n",
       "      <td>2018</td>\n",
       "    </tr>\n",
       "    <tr>\n",
       "      <th>4</th>\n",
       "      <td>4</td>\n",
       "      <td>46602.08</td>\n",
       "      <td>USD</td>\n",
       "      <td>online</td>\n",
       "      <td>edge</td>\n",
       "      <td>pos</td>\n",
       "      <td>119.122.247.30</td>\n",
       "      <td>2527799581</td>\n",
       "      <td>nfcc</td>\n",
       "      <td>8827-9713-4148-1666</td>\n",
       "      <td>American Express</td>\n",
       "      <td>Business</td>\n",
       "      <td>498</td>\n",
       "      <td>GlevyWaY</td>\n",
       "      <td>11</td>\n",
       "      <td>2019</td>\n",
       "    </tr>\n",
       "  </tbody>\n",
       "</table>\n",
       "</div>"
      ],
      "text/plain": [
       "   id  amount_value amount_currency  channel deviceDetails_browser  \\\n",
       "0   0      59709.74             USD   online                  edge   \n",
       "1   1      66158.90             USD  virtual               mozilla   \n",
       "2   2      56267.47             USD   online                  edge   \n",
       "3   3       7807.98             USD      pos                chrome   \n",
       "4   4      46602.08             USD   online                  edge   \n",
       "\n",
       "  deviceDetails_device deviceDetails_deviceIp merchantRefTransactionId  \\\n",
       "0                  pos          185.217.34.85               2886491310   \n",
       "1                  pos         155.150.151.58               2142948276   \n",
       "2                  pos           1.108.241.44               8346148926   \n",
       "3               mobile        194.130.118.167               2230501915   \n",
       "4                  pos         119.122.247.30               2527799581   \n",
       "\n",
       "  paymentMethod_apmType paymentMethod_cardNumber paymentMethod_cardType  \\\n",
       "0                  nfcc      4705-9637-4876-9220              Discover    \n",
       "1                  nfcc      6229-3592-8282-2503              Discover    \n",
       "2            magstripe       4783-4065-0532-9896              Discover    \n",
       "3                  nfcc      5658-1263-1465-3445       American Express   \n",
       "4                  nfcc      8827-9713-4148-1666       American Express   \n",
       "\n",
       "  paymentMethod_cardSubType paymentMethod_cvv  \\\n",
       "0                 Business                868   \n",
       "1                   Generic               089   \n",
       "2                   Generic               506   \n",
       "3                   Generic               775   \n",
       "4                 Business                498   \n",
       "\n",
       "  paymentMethod_encodedPaymentToken  paymentMethod_expiryMonth  \\\n",
       "0                          VbqGsfEM                          2   \n",
       "1                          hBwCWemp                          3   \n",
       "2                          wHbaPyoK                         10   \n",
       "3                          qqasJHss                         10   \n",
       "4                          GlevyWaY                         11   \n",
       "\n",
       "   paymentMethod_expiryYear  \n",
       "0                      2021  \n",
       "1                      2023  \n",
       "2                      2025  \n",
       "3                      2018  \n",
       "4                      2019  "
      ]
     },
     "execution_count": 38,
     "metadata": {},
     "output_type": "execute_result"
    }
   ],
   "source": [
    "ml_set.head(5)"
   ]
  },
  {
   "cell_type": "code",
   "execution_count": 39,
   "metadata": {},
   "outputs": [],
   "source": [
    "ml_set.to_csv('ml_datasert.csv')"
   ]
  },
  {
   "cell_type": "code",
   "execution_count": null,
   "metadata": {},
   "outputs": [],
   "source": []
  }
 ],
 "metadata": {
  "kernelspec": {
   "display_name": "Python 3",
   "language": "python",
   "name": "python3"
  },
  "language_info": {
   "codemirror_mode": {
    "name": "ipython",
    "version": 3
   },
   "file_extension": ".py",
   "mimetype": "text/x-python",
   "name": "python",
   "nbconvert_exporter": "python",
   "pygments_lexer": "ipython3",
   "version": "3.8.3"
  }
 },
 "nbformat": 4,
 "nbformat_minor": 4
}
