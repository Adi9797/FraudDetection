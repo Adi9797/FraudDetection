{
 "cells": [
  {
   "cell_type": "code",
   "execution_count": 54,
   "metadata": {},
   "outputs": [],
   "source": [
    "import pandas as pd\n",
    "import random"
   ]
  },
  {
   "cell_type": "code",
   "execution_count": 55,
   "metadata": {},
   "outputs": [],
   "source": [
    "# 100k dataset for train + valid\n",
    "# 10k for test"
   ]
  },
  {
   "cell_type": "code",
   "execution_count": 56,
   "metadata": {},
   "outputs": [],
   "source": [
    "columns = ['id','amount_currency','amount_value','channel','deviceDetails_browser',\n",
    "           'deviceDetails_device','deviceDetails_deviceIp','merchantRefTransactionId','paymentMethod_apmType',\n",
    "           'paymentMethod_cardNumber','paymentMethod_cardSubType','paymentMethod_cardType','paymentMethod_cvv',\n",
    "           'paymentMethod_encodedPaymentToken','paymentMethod_expiryMonth','paymentMethod_expiryYear',\n",
    "           'shopperDetails_address_city','shopperDetails_address_country',\n",
    "           'shopperDetails_address_state','shopperDetails_email','shopperDetails_firstName','shopperDetails_lastName',\n",
    "           'shopperDetails_phoneNumber','shopperDetails_shopperKey']"
   ]
  },
  {
   "cell_type": "code",
   "execution_count": 57,
   "metadata": {},
   "outputs": [],
   "source": [
    "import random\n",
    "def initial_values(rows):\n",
    "    amounts = []\n",
    "    for i in range(rows):\n",
    "        amounts.append({'id':i, 'amount_value':round(random.uniform(0.00, 100000), 2)})\n",
    "    return amounts"
   ]
  },
  {
   "cell_type": "code",
   "execution_count": 58,
   "metadata": {},
   "outputs": [],
   "source": [
    "numbers_of_rows_in_dataset = 100000\n",
    "data = initial_values(numbers_of_rows_in_dataset)\n",
    "ml_set = pd.DataFrame(data)"
   ]
  },
  {
   "cell_type": "code",
   "execution_count": 59,
   "metadata": {},
   "outputs": [
    {
     "data": {
      "text/plain": [
       "(100000, 2)"
      ]
     },
     "execution_count": 59,
     "metadata": {},
     "output_type": "execute_result"
    }
   ],
   "source": [
    "ml_set.shape"
   ]
  },
  {
   "cell_type": "code",
   "execution_count": 60,
   "metadata": {},
   "outputs": [
    {
     "data": {
      "text/html": [
       "<div>\n",
       "<style scoped>\n",
       "    .dataframe tbody tr th:only-of-type {\n",
       "        vertical-align: middle;\n",
       "    }\n",
       "\n",
       "    .dataframe tbody tr th {\n",
       "        vertical-align: top;\n",
       "    }\n",
       "\n",
       "    .dataframe thead th {\n",
       "        text-align: right;\n",
       "    }\n",
       "</style>\n",
       "<table border=\"1\" class=\"dataframe\">\n",
       "  <thead>\n",
       "    <tr style=\"text-align: right;\">\n",
       "      <th></th>\n",
       "      <th>id</th>\n",
       "      <th>amount_value</th>\n",
       "    </tr>\n",
       "  </thead>\n",
       "  <tbody>\n",
       "    <tr>\n",
       "      <th>0</th>\n",
       "      <td>0</td>\n",
       "      <td>80073.39</td>\n",
       "    </tr>\n",
       "    <tr>\n",
       "      <th>1</th>\n",
       "      <td>1</td>\n",
       "      <td>44730.51</td>\n",
       "    </tr>\n",
       "    <tr>\n",
       "      <th>2</th>\n",
       "      <td>2</td>\n",
       "      <td>6068.00</td>\n",
       "    </tr>\n",
       "    <tr>\n",
       "      <th>3</th>\n",
       "      <td>3</td>\n",
       "      <td>93995.29</td>\n",
       "    </tr>\n",
       "    <tr>\n",
       "      <th>4</th>\n",
       "      <td>4</td>\n",
       "      <td>28724.03</td>\n",
       "    </tr>\n",
       "    <tr>\n",
       "      <th>...</th>\n",
       "      <td>...</td>\n",
       "      <td>...</td>\n",
       "    </tr>\n",
       "    <tr>\n",
       "      <th>99995</th>\n",
       "      <td>99995</td>\n",
       "      <td>52993.06</td>\n",
       "    </tr>\n",
       "    <tr>\n",
       "      <th>99996</th>\n",
       "      <td>99996</td>\n",
       "      <td>6042.99</td>\n",
       "    </tr>\n",
       "    <tr>\n",
       "      <th>99997</th>\n",
       "      <td>99997</td>\n",
       "      <td>48867.94</td>\n",
       "    </tr>\n",
       "    <tr>\n",
       "      <th>99998</th>\n",
       "      <td>99998</td>\n",
       "      <td>96421.77</td>\n",
       "    </tr>\n",
       "    <tr>\n",
       "      <th>99999</th>\n",
       "      <td>99999</td>\n",
       "      <td>35783.01</td>\n",
       "    </tr>\n",
       "  </tbody>\n",
       "</table>\n",
       "<p>100000 rows × 2 columns</p>\n",
       "</div>"
      ],
      "text/plain": [
       "          id  amount_value\n",
       "0          0      80073.39\n",
       "1          1      44730.51\n",
       "2          2       6068.00\n",
       "3          3      93995.29\n",
       "4          4      28724.03\n",
       "...      ...           ...\n",
       "99995  99995      52993.06\n",
       "99996  99996       6042.99\n",
       "99997  99997      48867.94\n",
       "99998  99998      96421.77\n",
       "99999  99999      35783.01\n",
       "\n",
       "[100000 rows x 2 columns]"
      ]
     },
     "execution_count": 60,
     "metadata": {},
     "output_type": "execute_result"
    }
   ],
   "source": [
    "ml_set"
   ]
  },
  {
   "cell_type": "code",
   "execution_count": 61,
   "metadata": {},
   "outputs": [],
   "source": [
    "ml_set['amount_currency'] = 'USD'"
   ]
  },
  {
   "cell_type": "code",
   "execution_count": 62,
   "metadata": {},
   "outputs": [],
   "source": [
    "def random_channel(row):\n",
    "    channel = ''\n",
    "    rnd =  random.randrange(101)\n",
    "    if  0 < rnd <= 10:\n",
    "        channel = 'pos'\n",
    "    elif 10 < rnd <= 50:\n",
    "        channel = 'online'\n",
    "    elif 51 < rnd <= 100:\n",
    "        channel = 'virtual'\n",
    "    else:\n",
    "        channel = 'mobile'\n",
    "    \n",
    "    return channel"
   ]
  },
  {
   "cell_type": "code",
   "execution_count": 63,
   "metadata": {},
   "outputs": [],
   "source": [
    "ml_set['channel'] = ml_set.apply(random_channel, axis = 1)"
   ]
  },
  {
   "cell_type": "code",
   "execution_count": 64,
   "metadata": {},
   "outputs": [
    {
     "data": {
      "text/plain": [
       "array(['pos', 'virtual', 'online', 'mobile'], dtype=object)"
      ]
     },
     "execution_count": 64,
     "metadata": {},
     "output_type": "execute_result"
    }
   ],
   "source": [
    "ml_set.channel.unique()"
   ]
  },
  {
   "cell_type": "code",
   "execution_count": 65,
   "metadata": {},
   "outputs": [],
   "source": [
    "def deviceDetails_browser(row):\n",
    "    browser = ''\n",
    "    rnd =  random.randrange(101)\n",
    "    if  0 < rnd <= 10:\n",
    "        browser = 'mozilla'\n",
    "    elif 10 < rnd <= 50:\n",
    "        browser = 'chrome'\n",
    "    elif 51 < rnd <= 100:\n",
    "        browser = 'edge'\n",
    "    else:\n",
    "        browser = 'chromio'\n",
    "    \n",
    "    return browser"
   ]
  },
  {
   "cell_type": "code",
   "execution_count": 66,
   "metadata": {},
   "outputs": [],
   "source": [
    "ml_set['deviceDetails_browser'] = ml_set.apply(deviceDetails_browser, axis = 1)"
   ]
  },
  {
   "cell_type": "code",
   "execution_count": 67,
   "metadata": {},
   "outputs": [],
   "source": [
    "def deviceDetails_device(row):\n",
    "    device = ''\n",
    "    rnd =  random.randrange(101)\n",
    "    if  0 < rnd <= 10:\n",
    "        device = 'mobile'\n",
    "    elif 10 < rnd <= 50:\n",
    "        device = 'pc'\n",
    "    else:\n",
    "        device = 'pos'\n",
    "    \n",
    "    return device"
   ]
  },
  {
   "cell_type": "code",
   "execution_count": 68,
   "metadata": {},
   "outputs": [],
   "source": [
    "ml_set['deviceDetails_device'] = ml_set.apply(deviceDetails_device, axis = 1)"
   ]
  },
  {
   "cell_type": "code",
   "execution_count": 69,
   "metadata": {},
   "outputs": [],
   "source": [
    "import socket\n",
    "import struct\n",
    "def deviceDetails_deviceIp(row):\n",
    "    ip = socket.inet_ntoa(struct.pack('>I', random.randint(1, 0xffffffff)))\n",
    "    return ip"
   ]
  },
  {
   "cell_type": "code",
   "execution_count": 70,
   "metadata": {},
   "outputs": [],
   "source": [
    "ml_set['deviceDetails_deviceIp'] = ml_set.apply(deviceDetails_deviceIp, axis = 1)"
   ]
  },
  {
   "cell_type": "code",
   "execution_count": 71,
   "metadata": {},
   "outputs": [],
   "source": [
    "import string\n",
    "def merchantRefTransactionId(row):\n",
    "    letters = string.digits\n",
    "    return ''.join(random.choice(letters) for i in range(10))"
   ]
  },
  {
   "cell_type": "code",
   "execution_count": 72,
   "metadata": {},
   "outputs": [],
   "source": [
    "ml_set['merchantRefTransactionId'] = ml_set.apply(merchantRefTransactionId, axis = 1)"
   ]
  },
  {
   "cell_type": "code",
   "execution_count": 73,
   "metadata": {},
   "outputs": [],
   "source": [
    "def paymentMethod_apmType(row):\n",
    "    amp = ''\n",
    "    rnd =  random.randrange(101)\n",
    "    if  0 < rnd <= 10:\n",
    "        amp = 'chip'\n",
    "    elif 10 < rnd <= 50:\n",
    "        amp = 'magstripe '\n",
    "    else:\n",
    "        amp = 'nfcc'\n",
    "    \n",
    "    return amp"
   ]
  },
  {
   "cell_type": "code",
   "execution_count": 74,
   "metadata": {},
   "outputs": [],
   "source": [
    "ml_set['paymentMethod_apmType'] = ml_set.apply(paymentMethod_apmType, axis = 1)"
   ]
  },
  {
   "cell_type": "code",
   "execution_count": 75,
   "metadata": {},
   "outputs": [],
   "source": [
    "import string\n",
    "def paymentMethod_cardNumber(row):\n",
    "    card_number = ''\n",
    "    numbers = string.digits\n",
    "    for part in range(4):\n",
    "        card_number += ''.join((random.choice(numbers) for i in range(4))) + '-'\n",
    "    return card_number[:-1]"
   ]
  },
  {
   "cell_type": "code",
   "execution_count": 76,
   "metadata": {},
   "outputs": [],
   "source": [
    "ml_set['paymentMethod_cardNumber'] = ml_set.apply(paymentMethod_cardNumber, axis = 1)"
   ]
  },
  {
   "cell_type": "code",
   "execution_count": 77,
   "metadata": {},
   "outputs": [],
   "source": [
    "def paymentMethod_cardType(row):\n",
    "    card_type = ''\n",
    "    rnd =  random.randrange(201)\n",
    "    if  0 < rnd <= 10:\n",
    "        card_type = 'MasterCard'\n",
    "    elif 10 < rnd <= 50:\n",
    "        card_type = 'Visa '\n",
    "    elif 51 < rnd <= 100:\n",
    "        card_type = 'Discover '\n",
    "    elif 101 < rnd <= 200:\n",
    "        card_type = 'JCB'\n",
    "    else:\n",
    "        card_type = 'American Express'\n",
    "    \n",
    "    return card_type"
   ]
  },
  {
   "cell_type": "code",
   "execution_count": 78,
   "metadata": {},
   "outputs": [],
   "source": [
    "ml_set['paymentMethod_cardType'] = ml_set.apply(paymentMethod_cardType, axis = 1)"
   ]
  },
  {
   "cell_type": "code",
   "execution_count": 79,
   "metadata": {},
   "outputs": [],
   "source": [
    "def paymentMethod_cardSubType(row):\n",
    "    card_subtype = ''\n",
    "    rnd =  random.randrange(201)\n",
    "    if  0 < rnd <= 10:\n",
    "        card_subtype = 'Secured'\n",
    "    elif 10 < rnd <= 50:\n",
    "        card_subtype = 'Prepaid '\n",
    "    elif 51 < rnd <= 100:\n",
    "        card_subtype = 'Business '\n",
    "    elif 101 < rnd <= 200:\n",
    "        card_subtype = 'Student'\n",
    "    else:\n",
    "        card_subtype = 'Generic'\n",
    "    \n",
    "    return card_subtype"
   ]
  },
  {
   "cell_type": "code",
   "execution_count": 80,
   "metadata": {},
   "outputs": [],
   "source": [
    "ml_set['paymentMethod_cardSubType'] = ml_set.apply(paymentMethod_cardSubType, axis = 1)"
   ]
  },
  {
   "cell_type": "code",
   "execution_count": 81,
   "metadata": {},
   "outputs": [],
   "source": [
    "import string\n",
    "def paymentMethod_cvv(row):\n",
    "    numbers = string.digits\n",
    "    return ''.join((random.choice(numbers) for i in range(3)))"
   ]
  },
  {
   "cell_type": "code",
   "execution_count": 82,
   "metadata": {},
   "outputs": [],
   "source": [
    "ml_set['paymentMethod_cvv'] = ml_set.apply(paymentMethod_cvv, axis = 1)"
   ]
  },
  {
   "cell_type": "code",
   "execution_count": 83,
   "metadata": {},
   "outputs": [],
   "source": [
    "def paymentMethod_encodedPaymentToken(row):\n",
    "    letters = string.ascii_letters\n",
    "    return ''.join(random.choice(letters) for i in range(8))"
   ]
  },
  {
   "cell_type": "code",
   "execution_count": 84,
   "metadata": {},
   "outputs": [],
   "source": [
    "ml_set['paymentMethod_encodedPaymentToken'] = ml_set.apply(paymentMethod_encodedPaymentToken, axis = 1)"
   ]
  },
  {
   "cell_type": "code",
   "execution_count": 85,
   "metadata": {},
   "outputs": [
    {
     "data": {
      "text/html": [
       "<div>\n",
       "<style scoped>\n",
       "    .dataframe tbody tr th:only-of-type {\n",
       "        vertical-align: middle;\n",
       "    }\n",
       "\n",
       "    .dataframe tbody tr th {\n",
       "        vertical-align: top;\n",
       "    }\n",
       "\n",
       "    .dataframe thead th {\n",
       "        text-align: right;\n",
       "    }\n",
       "</style>\n",
       "<table border=\"1\" class=\"dataframe\">\n",
       "  <thead>\n",
       "    <tr style=\"text-align: right;\">\n",
       "      <th></th>\n",
       "      <th>id</th>\n",
       "      <th>amount_value</th>\n",
       "      <th>amount_currency</th>\n",
       "      <th>channel</th>\n",
       "      <th>deviceDetails_browser</th>\n",
       "      <th>deviceDetails_device</th>\n",
       "      <th>deviceDetails_deviceIp</th>\n",
       "      <th>merchantRefTransactionId</th>\n",
       "      <th>paymentMethod_apmType</th>\n",
       "      <th>paymentMethod_cardNumber</th>\n",
       "      <th>paymentMethod_cardType</th>\n",
       "      <th>paymentMethod_cardSubType</th>\n",
       "      <th>paymentMethod_cvv</th>\n",
       "      <th>paymentMethod_encodedPaymentToken</th>\n",
       "    </tr>\n",
       "  </thead>\n",
       "  <tbody>\n",
       "    <tr>\n",
       "      <th>0</th>\n",
       "      <td>0</td>\n",
       "      <td>80073.39</td>\n",
       "      <td>USD</td>\n",
       "      <td>pos</td>\n",
       "      <td>chrome</td>\n",
       "      <td>pos</td>\n",
       "      <td>199.177.94.32</td>\n",
       "      <td>9196816658</td>\n",
       "      <td>magstripe</td>\n",
       "      <td>8717-6498-5500-4384</td>\n",
       "      <td>JCB</td>\n",
       "      <td>Student</td>\n",
       "      <td>802</td>\n",
       "      <td>RGNTuKCD</td>\n",
       "    </tr>\n",
       "    <tr>\n",
       "      <th>1</th>\n",
       "      <td>1</td>\n",
       "      <td>44730.51</td>\n",
       "      <td>USD</td>\n",
       "      <td>virtual</td>\n",
       "      <td>mozilla</td>\n",
       "      <td>pos</td>\n",
       "      <td>140.130.6.118</td>\n",
       "      <td>2480479816</td>\n",
       "      <td>magstripe</td>\n",
       "      <td>5910-2388-3992-2019</td>\n",
       "      <td>Discover</td>\n",
       "      <td>Prepaid</td>\n",
       "      <td>290</td>\n",
       "      <td>ECEPBpho</td>\n",
       "    </tr>\n",
       "    <tr>\n",
       "      <th>2</th>\n",
       "      <td>2</td>\n",
       "      <td>6068.00</td>\n",
       "      <td>USD</td>\n",
       "      <td>virtual</td>\n",
       "      <td>chrome</td>\n",
       "      <td>pos</td>\n",
       "      <td>123.65.222.211</td>\n",
       "      <td>7316485036</td>\n",
       "      <td>nfcc</td>\n",
       "      <td>7491-3848-0599-6446</td>\n",
       "      <td>JCB</td>\n",
       "      <td>Student</td>\n",
       "      <td>298</td>\n",
       "      <td>sKBUDqEt</td>\n",
       "    </tr>\n",
       "    <tr>\n",
       "      <th>3</th>\n",
       "      <td>3</td>\n",
       "      <td>93995.29</td>\n",
       "      <td>USD</td>\n",
       "      <td>pos</td>\n",
       "      <td>chrome</td>\n",
       "      <td>pos</td>\n",
       "      <td>53.155.4.150</td>\n",
       "      <td>0666192529</td>\n",
       "      <td>nfcc</td>\n",
       "      <td>8882-7459-8781-3143</td>\n",
       "      <td>MasterCard</td>\n",
       "      <td>Student</td>\n",
       "      <td>915</td>\n",
       "      <td>dLwxtjDg</td>\n",
       "    </tr>\n",
       "    <tr>\n",
       "      <th>4</th>\n",
       "      <td>4</td>\n",
       "      <td>28724.03</td>\n",
       "      <td>USD</td>\n",
       "      <td>online</td>\n",
       "      <td>edge</td>\n",
       "      <td>pos</td>\n",
       "      <td>169.106.202.210</td>\n",
       "      <td>3311701970</td>\n",
       "      <td>magstripe</td>\n",
       "      <td>5234-6985-8914-2457</td>\n",
       "      <td>JCB</td>\n",
       "      <td>Student</td>\n",
       "      <td>771</td>\n",
       "      <td>nlxiTCcp</td>\n",
       "    </tr>\n",
       "  </tbody>\n",
       "</table>\n",
       "</div>"
      ],
      "text/plain": [
       "   id  amount_value amount_currency  channel deviceDetails_browser  \\\n",
       "0   0      80073.39             USD      pos                chrome   \n",
       "1   1      44730.51             USD  virtual               mozilla   \n",
       "2   2       6068.00             USD  virtual                chrome   \n",
       "3   3      93995.29             USD      pos                chrome   \n",
       "4   4      28724.03             USD   online                  edge   \n",
       "\n",
       "  deviceDetails_device deviceDetails_deviceIp merchantRefTransactionId  \\\n",
       "0                  pos          199.177.94.32               9196816658   \n",
       "1                  pos          140.130.6.118               2480479816   \n",
       "2                  pos         123.65.222.211               7316485036   \n",
       "3                  pos           53.155.4.150               0666192529   \n",
       "4                  pos        169.106.202.210               3311701970   \n",
       "\n",
       "  paymentMethod_apmType paymentMethod_cardNumber paymentMethod_cardType  \\\n",
       "0            magstripe       8717-6498-5500-4384                    JCB   \n",
       "1            magstripe       5910-2388-3992-2019              Discover    \n",
       "2                  nfcc      7491-3848-0599-6446                    JCB   \n",
       "3                  nfcc      8882-7459-8781-3143             MasterCard   \n",
       "4            magstripe       5234-6985-8914-2457                    JCB   \n",
       "\n",
       "  paymentMethod_cardSubType paymentMethod_cvv  \\\n",
       "0                   Student               802   \n",
       "1                  Prepaid                290   \n",
       "2                   Student               298   \n",
       "3                   Student               915   \n",
       "4                   Student               771   \n",
       "\n",
       "  paymentMethod_encodedPaymentToken  \n",
       "0                          RGNTuKCD  \n",
       "1                          ECEPBpho  \n",
       "2                          sKBUDqEt  \n",
       "3                          dLwxtjDg  \n",
       "4                          nlxiTCcp  "
      ]
     },
     "execution_count": 85,
     "metadata": {},
     "output_type": "execute_result"
    }
   ],
   "source": [
    "ml_set.head(5)"
   ]
  },
  {
   "cell_type": "code",
   "execution_count": 86,
   "metadata": {},
   "outputs": [],
   "source": [
    "from random import randrange\n",
    "\n",
    "def paymentMethod_expiryMonth(row):\n",
    "    return randrange(12)"
   ]
  },
  {
   "cell_type": "code",
   "execution_count": 87,
   "metadata": {},
   "outputs": [],
   "source": [
    "ml_set['paymentMethod_expiryMonth'] = ml_set.apply(paymentMethod_expiryMonth, axis = 1)"
   ]
  },
  {
   "cell_type": "code",
   "execution_count": 88,
   "metadata": {},
   "outputs": [],
   "source": [
    "from random import randrange\n",
    "\n",
    "def paymentMethod_expiryYear(row):\n",
    "    start_year = randrange(2018,2020)\n",
    "    return randrange(start_year, start_year + 10)"
   ]
  },
  {
   "cell_type": "code",
   "execution_count": 89,
   "metadata": {},
   "outputs": [],
   "source": [
    "ml_set['paymentMethod_expiryYear'] = ml_set.apply(paymentMethod_expiryYear, axis = 1)"
   ]
  },
  {
   "cell_type": "code",
   "execution_count": 90,
   "metadata": {},
   "outputs": [],
   "source": [
    "import datetime\n",
    "\n",
    "def get_transaction_time(row):\n",
    "    start_date = datetime.date(2020, 1, 1)\n",
    "    end_date = datetime. date(2020, 10, 1)\n",
    "    time_between_dates = end_date - start_date\n",
    "    days_between_dates = time_between_dates.days\n",
    "    random_number_of_days = random.randrange(days_between_dates)\n",
    "    \n",
    "    return start_date + datetime.timedelta(days=random_number_of_days)"
   ]
  },
  {
   "cell_type": "code",
   "execution_count": null,
   "metadata": {},
   "outputs": [],
   "source": [
    "ml_set['transaction_time'] = ml_set.apply(get_transaction_time, axis = 1)"
   ]
  },
  {
   "cell_type": "code",
   "execution_count": null,
   "metadata": {},
   "outputs": [],
   "source": [
    "ml_set['transaction_time']"
   ]
  },
  {
   "cell_type": "code",
   "execution_count": null,
   "metadata": {},
   "outputs": [],
   "source": [
    "def label_transaction(row):\n",
    "    return  random.randrange(2)"
   ]
  },
  {
   "cell_type": "code",
   "execution_count": null,
   "metadata": {},
   "outputs": [],
   "source": [
    "ml_set['class'] = ml_set.apply(label_transaction, axis = 1)"
   ]
  },
  {
   "cell_type": "code",
   "execution_count": null,
   "metadata": {},
   "outputs": [],
   "source": [
    "ml_set['class'].value_counts()"
   ]
  },
  {
   "cell_type": "code",
   "execution_count": null,
   "metadata": {},
   "outputs": [],
   "source": [
    "ml_set.head(5)\n",
    "len(ml_set)"
   ]
  },
  {
   "cell_type": "code",
   "execution_count": null,
   "metadata": {},
   "outputs": [],
   "source": [
    "ml_set.to_csv('train.csv', index=False)"
   ]
  }
 ],
 "metadata": {
  "kernelspec": {
   "display_name": "Python 3",
   "language": "python",
   "name": "python3"
  },
  "language_info": {
   "codemirror_mode": {
    "name": "ipython",
    "version": 3
   },
   "file_extension": ".py",
   "mimetype": "text/x-python",
   "name": "python",
   "nbconvert_exporter": "python",
   "pygments_lexer": "ipython3",
   "version": "3.8.3"
  }
 },
 "nbformat": 4,
 "nbformat_minor": 4
}
