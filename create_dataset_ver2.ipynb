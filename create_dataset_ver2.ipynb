{
 "cells": [
  {
   "cell_type": "code",
   "execution_count": 86,
   "metadata": {},
   "outputs": [],
   "source": [
    "import pandas as pd\n",
    "import random"
   ]
  },
  {
   "cell_type": "code",
   "execution_count": 87,
   "metadata": {},
   "outputs": [],
   "source": [
    "# 100k dataset for train + valid\n",
    "# 10k for test"
   ]
  },
  {
   "cell_type": "code",
   "execution_count": 88,
   "metadata": {},
   "outputs": [],
   "source": [
    "columns = ['id','amount_currency','amount_value','channel','deviceDetails_browser',\n",
    "           'deviceDetails_device','deviceDetails_deviceIp','merchantRefTransactionId','paymentMethod_apmType',\n",
    "           'paymentMethod_cardNumber','paymentMethod_cardSubType','paymentMethod_cardType','paymentMethod_cvv',\n",
    "           'paymentMethod_encodedPaymentToken','paymentMethod_expiryMonth','paymentMethod_expiryYear',\n",
    "           'shopperDetails_address_city','shopperDetails_address_country',\n",
    "           'shopperDetails_address_state','shopperDetails_email','shopperDetails_firstName','shopperDetails_lastName',\n",
    "           'shopperDetails_phoneNumber','shopperDetails_shopperKey']"
   ]
  },
  {
   "cell_type": "code",
   "execution_count": 89,
   "metadata": {},
   "outputs": [],
   "source": [
    "import random\n",
    "def initial_values(rows):\n",
    "    amounts = []\n",
    "    for i in range(rows):\n",
    "        amounts.append({'id':i, 'amount_value':round(random.uniform(0.00, 100000), 2)})\n",
    "    return amounts"
   ]
  },
  {
   "cell_type": "code",
   "execution_count": 90,
   "metadata": {},
   "outputs": [],
   "source": [
    "numbers_of_rows_in_dataset = 10000\n",
    "data = initial_values(numbers_of_rows_in_dataset)\n",
    "ml_set = pd.DataFrame(data)"
   ]
  },
  {
   "cell_type": "code",
   "execution_count": 91,
   "metadata": {},
   "outputs": [
    {
     "data": {
      "text/plain": [
       "(10000, 2)"
      ]
     },
     "execution_count": 91,
     "metadata": {},
     "output_type": "execute_result"
    }
   ],
   "source": [
    "ml_set.shape"
   ]
  },
  {
   "cell_type": "code",
   "execution_count": 92,
   "metadata": {},
   "outputs": [
    {
     "data": {
      "text/html": [
       "<div>\n",
       "<style scoped>\n",
       "    .dataframe tbody tr th:only-of-type {\n",
       "        vertical-align: middle;\n",
       "    }\n",
       "\n",
       "    .dataframe tbody tr th {\n",
       "        vertical-align: top;\n",
       "    }\n",
       "\n",
       "    .dataframe thead th {\n",
       "        text-align: right;\n",
       "    }\n",
       "</style>\n",
       "<table border=\"1\" class=\"dataframe\">\n",
       "  <thead>\n",
       "    <tr style=\"text-align: right;\">\n",
       "      <th></th>\n",
       "      <th>id</th>\n",
       "      <th>amount_value</th>\n",
       "    </tr>\n",
       "  </thead>\n",
       "  <tbody>\n",
       "    <tr>\n",
       "      <th>0</th>\n",
       "      <td>0</td>\n",
       "      <td>35702.79</td>\n",
       "    </tr>\n",
       "    <tr>\n",
       "      <th>1</th>\n",
       "      <td>1</td>\n",
       "      <td>96713.76</td>\n",
       "    </tr>\n",
       "    <tr>\n",
       "      <th>2</th>\n",
       "      <td>2</td>\n",
       "      <td>28131.45</td>\n",
       "    </tr>\n",
       "    <tr>\n",
       "      <th>3</th>\n",
       "      <td>3</td>\n",
       "      <td>13887.41</td>\n",
       "    </tr>\n",
       "    <tr>\n",
       "      <th>4</th>\n",
       "      <td>4</td>\n",
       "      <td>84296.09</td>\n",
       "    </tr>\n",
       "    <tr>\n",
       "      <th>...</th>\n",
       "      <td>...</td>\n",
       "      <td>...</td>\n",
       "    </tr>\n",
       "    <tr>\n",
       "      <th>9995</th>\n",
       "      <td>9995</td>\n",
       "      <td>45038.38</td>\n",
       "    </tr>\n",
       "    <tr>\n",
       "      <th>9996</th>\n",
       "      <td>9996</td>\n",
       "      <td>43451.72</td>\n",
       "    </tr>\n",
       "    <tr>\n",
       "      <th>9997</th>\n",
       "      <td>9997</td>\n",
       "      <td>92212.92</td>\n",
       "    </tr>\n",
       "    <tr>\n",
       "      <th>9998</th>\n",
       "      <td>9998</td>\n",
       "      <td>36044.82</td>\n",
       "    </tr>\n",
       "    <tr>\n",
       "      <th>9999</th>\n",
       "      <td>9999</td>\n",
       "      <td>53184.37</td>\n",
       "    </tr>\n",
       "  </tbody>\n",
       "</table>\n",
       "<p>10000 rows × 2 columns</p>\n",
       "</div>"
      ],
      "text/plain": [
       "        id  amount_value\n",
       "0        0      35702.79\n",
       "1        1      96713.76\n",
       "2        2      28131.45\n",
       "3        3      13887.41\n",
       "4        4      84296.09\n",
       "...    ...           ...\n",
       "9995  9995      45038.38\n",
       "9996  9996      43451.72\n",
       "9997  9997      92212.92\n",
       "9998  9998      36044.82\n",
       "9999  9999      53184.37\n",
       "\n",
       "[10000 rows x 2 columns]"
      ]
     },
     "execution_count": 92,
     "metadata": {},
     "output_type": "execute_result"
    }
   ],
   "source": [
    "ml_set"
   ]
  },
  {
   "cell_type": "code",
   "execution_count": 93,
   "metadata": {},
   "outputs": [],
   "source": [
    "ml_set['amount_currency'] = 'USD'"
   ]
  },
  {
   "cell_type": "code",
   "execution_count": 94,
   "metadata": {},
   "outputs": [],
   "source": [
    "def random_channel(row):\n",
    "    channel = ''\n",
    "    rnd =  random.randrange(101)\n",
    "    if  0 < rnd <= 10:\n",
    "        channel = 'pos'\n",
    "    elif 10 < rnd <= 50:\n",
    "        channel = 'online'\n",
    "    elif 51 < rnd <= 100:\n",
    "        channel = 'virtual'\n",
    "    else:\n",
    "        channel = 'mobile'\n",
    "    \n",
    "    return channel"
   ]
  },
  {
   "cell_type": "code",
   "execution_count": 95,
   "metadata": {},
   "outputs": [],
   "source": [
    "ml_set['channel'] = ml_set.apply(random_channel, axis = 1)"
   ]
  },
  {
   "cell_type": "code",
   "execution_count": 96,
   "metadata": {},
   "outputs": [
    {
     "data": {
      "text/plain": [
       "array(['virtual', 'pos', 'online', 'mobile'], dtype=object)"
      ]
     },
     "execution_count": 96,
     "metadata": {},
     "output_type": "execute_result"
    }
   ],
   "source": [
    "ml_set.channel.unique()"
   ]
  },
  {
   "cell_type": "code",
   "execution_count": 97,
   "metadata": {},
   "outputs": [],
   "source": [
    "def deviceDetails_browser(row):\n",
    "    browser = ''\n",
    "    rnd =  random.randrange(101)\n",
    "    if  0 < rnd <= 10:\n",
    "        browser = 'mozilla'\n",
    "    elif 10 < rnd <= 50:\n",
    "        browser = 'chrome'\n",
    "    elif 51 < rnd <= 100:\n",
    "        browser = 'edge'\n",
    "    else:\n",
    "        browser = 'chromio'\n",
    "    \n",
    "    return browser"
   ]
  },
  {
   "cell_type": "code",
   "execution_count": 98,
   "metadata": {},
   "outputs": [],
   "source": [
    "ml_set['deviceDetails_browser'] = ml_set.apply(deviceDetails_browser, axis = 1)"
   ]
  },
  {
   "cell_type": "code",
   "execution_count": 99,
   "metadata": {},
   "outputs": [],
   "source": [
    "def deviceDetails_device(row):\n",
    "    device = ''\n",
    "    rnd =  random.randrange(101)\n",
    "    if  0 < rnd <= 10:\n",
    "        device = 'mobile'\n",
    "    elif 10 < rnd <= 50:\n",
    "        device = 'pc'\n",
    "    else:\n",
    "        device = 'pos'\n",
    "    \n",
    "    return device"
   ]
  },
  {
   "cell_type": "code",
   "execution_count": 100,
   "metadata": {},
   "outputs": [],
   "source": [
    "ml_set['deviceDetails_device'] = ml_set.apply(deviceDetails_device, axis = 1)"
   ]
  },
  {
   "cell_type": "code",
   "execution_count": 101,
   "metadata": {},
   "outputs": [],
   "source": [
    "import socket\n",
    "import struct\n",
    "def deviceDetails_deviceIp(row):\n",
    "    ip = socket.inet_ntoa(struct.pack('>I', random.randint(1, 0xffffffff)))\n",
    "    return ip"
   ]
  },
  {
   "cell_type": "code",
   "execution_count": 102,
   "metadata": {},
   "outputs": [],
   "source": [
    "ml_set['deviceDetails_deviceIp'] = ml_set.apply(deviceDetails_deviceIp, axis = 1)"
   ]
  },
  {
   "cell_type": "code",
   "execution_count": 103,
   "metadata": {},
   "outputs": [],
   "source": [
    "import string\n",
    "def merchantRefTransactionId(row):\n",
    "    letters = string.digits\n",
    "    return ''.join(random.choice(letters) for i in range(10))"
   ]
  },
  {
   "cell_type": "code",
   "execution_count": 104,
   "metadata": {},
   "outputs": [],
   "source": [
    "ml_set['merchantRefTransactionId'] = ml_set.apply(merchantRefTransactionId, axis = 1)"
   ]
  },
  {
   "cell_type": "code",
   "execution_count": 105,
   "metadata": {},
   "outputs": [],
   "source": [
    "def paymentMethod_apmType(row):\n",
    "    amp = ''\n",
    "    rnd =  random.randrange(101)\n",
    "    if  0 < rnd <= 10:\n",
    "        amp = 'chip'\n",
    "    elif 10 < rnd <= 50:\n",
    "        amp = 'magstripe '\n",
    "    else:\n",
    "        amp = 'nfcc'\n",
    "    \n",
    "    return amp"
   ]
  },
  {
   "cell_type": "code",
   "execution_count": 106,
   "metadata": {},
   "outputs": [],
   "source": [
    "ml_set['paymentMethod_apmType'] = ml_set.apply(paymentMethod_apmType, axis = 1)"
   ]
  },
  {
   "cell_type": "code",
   "execution_count": 107,
   "metadata": {},
   "outputs": [],
   "source": [
    "import string\n",
    "def paymentMethod_cardNumber(row):\n",
    "    card_number = ''\n",
    "    numbers = string.digits\n",
    "    for part in range(4):\n",
    "        card_number += ''.join((random.choice(numbers) for i in range(4))) + '-'\n",
    "    return card_number[:-1]"
   ]
  },
  {
   "cell_type": "code",
   "execution_count": 108,
   "metadata": {},
   "outputs": [],
   "source": [
    "ml_set['paymentMethod_cardNumber'] = ml_set.apply(paymentMethod_cardNumber, axis = 1)"
   ]
  },
  {
   "cell_type": "code",
   "execution_count": 109,
   "metadata": {},
   "outputs": [],
   "source": [
    "def paymentMethod_cardType(row):\n",
    "    card_type = ''\n",
    "    rnd =  random.randrange(201)\n",
    "    if  0 < rnd <= 10:\n",
    "        card_type = 'MasterCard'\n",
    "    elif 10 < rnd <= 50:\n",
    "        card_type = 'Visa '\n",
    "    elif 51 < rnd <= 100:\n",
    "        card_type = 'Discover '\n",
    "    elif 101 < rnd <= 200:\n",
    "        card_type = 'JCB'\n",
    "    else:\n",
    "        card_type = 'American Express'\n",
    "    \n",
    "    return card_type"
   ]
  },
  {
   "cell_type": "code",
   "execution_count": 110,
   "metadata": {},
   "outputs": [],
   "source": [
    "ml_set['paymentMethod_cardType'] = ml_set.apply(paymentMethod_cardType, axis = 1)"
   ]
  },
  {
   "cell_type": "code",
   "execution_count": 111,
   "metadata": {},
   "outputs": [],
   "source": [
    "def paymentMethod_cardSubType(row):\n",
    "    card_subtype = ''\n",
    "    rnd =  random.randrange(201)\n",
    "    if  0 < rnd <= 10:\n",
    "        card_subtype = 'Secured'\n",
    "    elif 10 < rnd <= 50:\n",
    "        card_subtype = 'Prepaid '\n",
    "    elif 51 < rnd <= 100:\n",
    "        card_subtype = 'Business '\n",
    "    elif 101 < rnd <= 200:\n",
    "        card_subtype = 'Student'\n",
    "    else:\n",
    "        card_subtype = 'Generic'\n",
    "    \n",
    "    return card_subtype"
   ]
  },
  {
   "cell_type": "code",
   "execution_count": 112,
   "metadata": {},
   "outputs": [],
   "source": [
    "ml_set['paymentMethod_cardSubType'] = ml_set.apply(paymentMethod_cardSubType, axis = 1)"
   ]
  },
  {
   "cell_type": "code",
   "execution_count": 113,
   "metadata": {},
   "outputs": [],
   "source": [
    "import string\n",
    "def paymentMethod_cvv(row):\n",
    "    numbers = string.digits\n",
    "    return ''.join((random.choice(numbers) for i in range(3)))"
   ]
  },
  {
   "cell_type": "code",
   "execution_count": 114,
   "metadata": {},
   "outputs": [],
   "source": [
    "ml_set['paymentMethod_cvv'] = ml_set.apply(paymentMethod_cvv, axis = 1)"
   ]
  },
  {
   "cell_type": "code",
   "execution_count": 115,
   "metadata": {},
   "outputs": [],
   "source": [
    "def paymentMethod_encodedPaymentToken(row):\n",
    "    letters = string.ascii_letters\n",
    "    return ''.join(random.choice(letters) for i in range(8))"
   ]
  },
  {
   "cell_type": "code",
   "execution_count": 116,
   "metadata": {},
   "outputs": [],
   "source": [
    "ml_set['paymentMethod_encodedPaymentToken'] = ml_set.apply(paymentMethod_encodedPaymentToken, axis = 1)"
   ]
  },
  {
   "cell_type": "code",
   "execution_count": 117,
   "metadata": {},
   "outputs": [
    {
     "data": {
      "text/html": [
       "<div>\n",
       "<style scoped>\n",
       "    .dataframe tbody tr th:only-of-type {\n",
       "        vertical-align: middle;\n",
       "    }\n",
       "\n",
       "    .dataframe tbody tr th {\n",
       "        vertical-align: top;\n",
       "    }\n",
       "\n",
       "    .dataframe thead th {\n",
       "        text-align: right;\n",
       "    }\n",
       "</style>\n",
       "<table border=\"1\" class=\"dataframe\">\n",
       "  <thead>\n",
       "    <tr style=\"text-align: right;\">\n",
       "      <th></th>\n",
       "      <th>id</th>\n",
       "      <th>amount_value</th>\n",
       "      <th>amount_currency</th>\n",
       "      <th>channel</th>\n",
       "      <th>deviceDetails_browser</th>\n",
       "      <th>deviceDetails_device</th>\n",
       "      <th>deviceDetails_deviceIp</th>\n",
       "      <th>merchantRefTransactionId</th>\n",
       "      <th>paymentMethod_apmType</th>\n",
       "      <th>paymentMethod_cardNumber</th>\n",
       "      <th>paymentMethod_cardType</th>\n",
       "      <th>paymentMethod_cardSubType</th>\n",
       "      <th>paymentMethod_cvv</th>\n",
       "      <th>paymentMethod_encodedPaymentToken</th>\n",
       "    </tr>\n",
       "  </thead>\n",
       "  <tbody>\n",
       "    <tr>\n",
       "      <th>0</th>\n",
       "      <td>0</td>\n",
       "      <td>35702.79</td>\n",
       "      <td>USD</td>\n",
       "      <td>virtual</td>\n",
       "      <td>chrome</td>\n",
       "      <td>pc</td>\n",
       "      <td>31.83.217.239</td>\n",
       "      <td>0763440287</td>\n",
       "      <td>magstripe</td>\n",
       "      <td>9294-8725-3326-8751</td>\n",
       "      <td>Discover</td>\n",
       "      <td>Student</td>\n",
       "      <td>428</td>\n",
       "      <td>MLJjmKlv</td>\n",
       "    </tr>\n",
       "    <tr>\n",
       "      <th>1</th>\n",
       "      <td>1</td>\n",
       "      <td>96713.76</td>\n",
       "      <td>USD</td>\n",
       "      <td>pos</td>\n",
       "      <td>edge</td>\n",
       "      <td>pc</td>\n",
       "      <td>68.135.38.186</td>\n",
       "      <td>3633992054</td>\n",
       "      <td>nfcc</td>\n",
       "      <td>9973-4085-8529-4670</td>\n",
       "      <td>JCB</td>\n",
       "      <td>Student</td>\n",
       "      <td>334</td>\n",
       "      <td>SzbTizSb</td>\n",
       "    </tr>\n",
       "    <tr>\n",
       "      <th>2</th>\n",
       "      <td>2</td>\n",
       "      <td>28131.45</td>\n",
       "      <td>USD</td>\n",
       "      <td>online</td>\n",
       "      <td>edge</td>\n",
       "      <td>pc</td>\n",
       "      <td>181.51.117.44</td>\n",
       "      <td>2702017312</td>\n",
       "      <td>nfcc</td>\n",
       "      <td>4149-0863-0508-3798</td>\n",
       "      <td>JCB</td>\n",
       "      <td>Prepaid</td>\n",
       "      <td>893</td>\n",
       "      <td>NXYLTqFd</td>\n",
       "    </tr>\n",
       "    <tr>\n",
       "      <th>3</th>\n",
       "      <td>3</td>\n",
       "      <td>13887.41</td>\n",
       "      <td>USD</td>\n",
       "      <td>online</td>\n",
       "      <td>chrome</td>\n",
       "      <td>mobile</td>\n",
       "      <td>7.207.231.116</td>\n",
       "      <td>9025329095</td>\n",
       "      <td>nfcc</td>\n",
       "      <td>0022-1421-6208-5605</td>\n",
       "      <td>Visa</td>\n",
       "      <td>Prepaid</td>\n",
       "      <td>169</td>\n",
       "      <td>wzoHummd</td>\n",
       "    </tr>\n",
       "    <tr>\n",
       "      <th>4</th>\n",
       "      <td>4</td>\n",
       "      <td>84296.09</td>\n",
       "      <td>USD</td>\n",
       "      <td>pos</td>\n",
       "      <td>mozilla</td>\n",
       "      <td>pc</td>\n",
       "      <td>156.222.177.16</td>\n",
       "      <td>7664017928</td>\n",
       "      <td>magstripe</td>\n",
       "      <td>8020-4510-5681-3962</td>\n",
       "      <td>Discover</td>\n",
       "      <td>Student</td>\n",
       "      <td>069</td>\n",
       "      <td>GIbcwOll</td>\n",
       "    </tr>\n",
       "  </tbody>\n",
       "</table>\n",
       "</div>"
      ],
      "text/plain": [
       "   id  amount_value amount_currency  channel deviceDetails_browser  \\\n",
       "0   0      35702.79             USD  virtual                chrome   \n",
       "1   1      96713.76             USD      pos                  edge   \n",
       "2   2      28131.45             USD   online                  edge   \n",
       "3   3      13887.41             USD   online                chrome   \n",
       "4   4      84296.09             USD      pos               mozilla   \n",
       "\n",
       "  deviceDetails_device deviceDetails_deviceIp merchantRefTransactionId  \\\n",
       "0                   pc          31.83.217.239               0763440287   \n",
       "1                   pc          68.135.38.186               3633992054   \n",
       "2                   pc          181.51.117.44               2702017312   \n",
       "3               mobile          7.207.231.116               9025329095   \n",
       "4                   pc         156.222.177.16               7664017928   \n",
       "\n",
       "  paymentMethod_apmType paymentMethod_cardNumber paymentMethod_cardType  \\\n",
       "0            magstripe       9294-8725-3326-8751              Discover    \n",
       "1                  nfcc      9973-4085-8529-4670                    JCB   \n",
       "2                  nfcc      4149-0863-0508-3798                    JCB   \n",
       "3                  nfcc      0022-1421-6208-5605                  Visa    \n",
       "4            magstripe       8020-4510-5681-3962              Discover    \n",
       "\n",
       "  paymentMethod_cardSubType paymentMethod_cvv  \\\n",
       "0                   Student               428   \n",
       "1                   Student               334   \n",
       "2                  Prepaid                893   \n",
       "3                  Prepaid                169   \n",
       "4                   Student               069   \n",
       "\n",
       "  paymentMethod_encodedPaymentToken  \n",
       "0                          MLJjmKlv  \n",
       "1                          SzbTizSb  \n",
       "2                          NXYLTqFd  \n",
       "3                          wzoHummd  \n",
       "4                          GIbcwOll  "
      ]
     },
     "execution_count": 117,
     "metadata": {},
     "output_type": "execute_result"
    }
   ],
   "source": [
    "ml_set.head(5)"
   ]
  },
  {
   "cell_type": "code",
   "execution_count": 118,
   "metadata": {},
   "outputs": [],
   "source": [
    "from random import randrange\n",
    "\n",
    "def paymentMethod_expiryMonth(row):\n",
    "    return randrange(12)"
   ]
  },
  {
   "cell_type": "code",
   "execution_count": 119,
   "metadata": {},
   "outputs": [],
   "source": [
    "ml_set['paymentMethod_expiryMonth'] = ml_set.apply(paymentMethod_expiryMonth, axis = 1)"
   ]
  },
  {
   "cell_type": "code",
   "execution_count": 120,
   "metadata": {},
   "outputs": [],
   "source": [
    "from random import randrange\n",
    "\n",
    "def paymentMethod_expiryYear(row):\n",
    "    start_year = randrange(2018,2020)\n",
    "    return randrange(start_year, start_year + 10)"
   ]
  },
  {
   "cell_type": "code",
   "execution_count": 121,
   "metadata": {},
   "outputs": [],
   "source": [
    "ml_set['paymentMethod_expiryYear'] = ml_set.apply(paymentMethod_expiryYear, axis = 1)"
   ]
  },
  {
   "cell_type": "code",
   "execution_count": 122,
   "metadata": {},
   "outputs": [],
   "source": [
    "import datetime\n",
    "\n",
    "def get_transaction_time(row):\n",
    "    start_date = datetime.date(2020, 1, 1)\n",
    "    end_date = datetime. date(2020, 10, 1)\n",
    "    time_between_dates = end_date - start_date\n",
    "    days_between_dates = time_between_dates.days\n",
    "    random_number_of_days = random.randrange(days_between_dates)\n",
    "    \n",
    "    return start_date + datetime.timedelta(days=random_number_of_days)"
   ]
  },
  {
   "cell_type": "code",
   "execution_count": 123,
   "metadata": {},
   "outputs": [],
   "source": [
    "ml_set['transaction_time'] = ml_set.apply(get_transaction_time, axis = 1)"
   ]
  },
  {
   "cell_type": "code",
   "execution_count": 124,
   "metadata": {},
   "outputs": [
    {
     "data": {
      "text/plain": [
       "0       2020-03-14\n",
       "1       2020-03-01\n",
       "2       2020-01-07\n",
       "3       2020-06-01\n",
       "4       2020-09-07\n",
       "           ...    \n",
       "9995    2020-08-10\n",
       "9996    2020-07-01\n",
       "9997    2020-02-21\n",
       "9998    2020-07-20\n",
       "9999    2020-06-01\n",
       "Name: transaction_time, Length: 10000, dtype: object"
      ]
     },
     "execution_count": 124,
     "metadata": {},
     "output_type": "execute_result"
    }
   ],
   "source": [
    "ml_set['transaction_time']"
   ]
  },
  {
   "cell_type": "code",
   "execution_count": 127,
   "metadata": {},
   "outputs": [
    {
     "data": {
      "text/plain": [
       "10000"
      ]
     },
     "execution_count": 127,
     "metadata": {},
     "output_type": "execute_result"
    }
   ],
   "source": [
    "ml_set.head(5)\n",
    "len(ml_set)"
   ]
  },
  {
   "cell_type": "code",
   "execution_count": 128,
   "metadata": {},
   "outputs": [],
   "source": [
    "ml_set.to_csv('test.csv', index=False)"
   ]
  }
 ],
 "metadata": {
  "kernelspec": {
   "display_name": "Python 3",
   "language": "python",
   "name": "python3"
  },
  "language_info": {
   "codemirror_mode": {
    "name": "ipython",
    "version": 3
   },
   "file_extension": ".py",
   "mimetype": "text/x-python",
   "name": "python",
   "nbconvert_exporter": "python",
   "pygments_lexer": "ipython3",
   "version": "3.8.3"
  }
 },
 "nbformat": 4,
 "nbformat_minor": 4
}
